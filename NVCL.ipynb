{
 "cells": [
  {
   "cell_type": "markdown",
   "metadata": {},
   "source": [
    "# Using the NVCL data\n",
    "\n",
    "We're going to query and visualise the data available to use in the NVCL repositories of the various state geological surveys. "
   ]
  },
  {
   "cell_type": "code",
   "execution_count": 1,
   "metadata": {},
   "outputs": [
    {
     "name": "stdout",
     "output_type": "stream",
     "text": [
      "Populating the interactive namespace from numpy and matplotlib\n"
     ]
    }
   ],
   "source": [
    "%pylab inline\n",
    "\n",
    "import pysiss\n",
    "from pysiss.webservices import nvcl\n",
    "import folium\n",
    "from utilities import website, embed_map"
   ]
  },
  {
   "cell_type": "markdown",
   "metadata": {},
   "source": [
    "If you don't know what endpoints are available, you can instantiate an NVCL endpoint registry, and see what's available:"
   ]
  },
  {
   "cell_type": "code",
   "execution_count": 2,
   "metadata": {},
   "outputs": [
    {
     "data": {
      "text/plain": [
       "{'dataurl': 'http://geossdi.dmp.wa.gov.au/NVCLDataServices/',\n",
       " 'downloadurl': 'http://geossdi.dmp.wa.gov.au/NVCLDownloadServices/',\n",
       " 'wfsurl': 'http://geossdi.dmp.wa.gov.au/services/wfs'}"
      ]
     },
     "execution_count": 2,
     "metadata": {},
     "output_type": "execute_result"
    }
   ],
   "source": [
    "registry = nvcl.NVCLEndpointRegistry()\n",
    "# registry.keys()\n",
    "registry['GSWA']"
   ]
  },
  {
   "cell_type": "markdown",
   "metadata": {},
   "source": [
    "Often what we want to do is get all the data in the first instance, so we'll make importers for each default endpoint in the registry. We do this with the NVCLImporter class, which knows how to query an NVCL endpoint, parse the GeoSciML data that is returned back the server, and return an Borehole object to you to play with. "
   ]
  },
  {
   "cell_type": "code",
   "execution_count": 3,
   "metadata": {},
   "outputs": [
    {
     "data": {
      "text/plain": [
       "NVCLImporter(endpoint=\"GSWA\")"
      ]
     },
     "execution_count": 3,
     "metadata": {},
     "output_type": "execute_result"
    }
   ],
   "source": [
    "endpoints = {}\n",
    "for ept in registry.keys():\n",
    "    endpoints[ept] = nvcl.NVCLImporter(ept)\n",
    "    \n",
    "# Example\n",
    "gswa = endpoints['GSWA']\n",
    "gswa"
   ]
  },
  {
   "cell_type": "markdown",
   "metadata": {},
   "source": [
    "So we can query the importer to find out what boreholes are available at this endpoint"
   ]
  },
  {
   "cell_type": "code",
   "execution_count": 4,
   "metadata": {},
   "outputs": [
    {
     "ename": "ValueError",
     "evalue": "Unicode strings with encoding declaration are not supported. Please use bytes input or XML fragments without declaration.",
     "output_type": "error",
     "traceback": [
      "\u001b[0;31m---------------------------------------------------------------------------\u001b[0m",
      "\u001b[0;31mValueError\u001b[0m                                Traceback (most recent call last)",
      "\u001b[0;32m<ipython-input-4-d51a6aadeaaa>\u001b[0m in \u001b[0;36m<module>\u001b[0;34m()\u001b[0m\n\u001b[0;32m----> 1\u001b[0;31m \u001b[0;32mfor\u001b[0m \u001b[0mident\u001b[0m\u001b[0;34m,\u001b[0m \u001b[0murl\u001b[0m \u001b[0;32min\u001b[0m \u001b[0mgswa\u001b[0m\u001b[0;34m.\u001b[0m\u001b[0mget_borehole_idents_and_urls\u001b[0m\u001b[0;34m(\u001b[0m\u001b[0;34m)\u001b[0m\u001b[0;34m.\u001b[0m\u001b[0mitems\u001b[0m\u001b[0;34m(\u001b[0m\u001b[0;34m)\u001b[0m\u001b[0;34m:\u001b[0m\u001b[0;34m\u001b[0m\u001b[0m\n\u001b[0m\u001b[1;32m      2\u001b[0m     \u001b[0mprint\u001b[0m \u001b[0;34m(\u001b[0m\u001b[0mident\u001b[0m\u001b[0;34m,\u001b[0m \u001b[0murl\u001b[0m\u001b[0;34m)\u001b[0m\u001b[0;34m\u001b[0m\u001b[0m\n",
      "\u001b[0;32mC:\\Users\\carsten\\PycharmProjects\\pysiss\\pysiss\\webservices\\nvcl.py\u001b[0m in \u001b[0;36mget_borehole_idents_and_urls\u001b[0;34m(self, maxids)\u001b[0m\n\u001b[1;32m    157\u001b[0m         \u001b[0mwfs_content\u001b[0m \u001b[0;34m=\u001b[0m \u001b[0mStringIO\u001b[0m\u001b[0;34m(\u001b[0m\u001b[0mwfsresponse\u001b[0m\u001b[0;34m.\u001b[0m\u001b[0mread\u001b[0m\u001b[0;34m(\u001b[0m\u001b[0;34m)\u001b[0m\u001b[0;34m)\u001b[0m\u001b[0;34m\u001b[0m\u001b[0m\n\u001b[1;32m    158\u001b[0m         \u001b[0mparser\u001b[0m \u001b[0;34m=\u001b[0m \u001b[0metree\u001b[0m\u001b[0;34m.\u001b[0m\u001b[0mXMLParser\u001b[0m\u001b[0;34m(\u001b[0m\u001b[0mrecover\u001b[0m\u001b[0;34m=\u001b[0m\u001b[0;32mTrue\u001b[0m\u001b[0;34m,\u001b[0m \u001b[0mencoding\u001b[0m\u001b[0;34m=\u001b[0m\u001b[0;34m'utf-8'\u001b[0m\u001b[0;34m)\u001b[0m\u001b[0;34m\u001b[0m\u001b[0m\n\u001b[0;32m--> 159\u001b[0;31m         \u001b[0mxmltree\u001b[0m \u001b[0;34m=\u001b[0m \u001b[0metree\u001b[0m\u001b[0;34m.\u001b[0m\u001b[0mparse\u001b[0m\u001b[0;34m(\u001b[0m\u001b[0mwfs_content\u001b[0m\u001b[0;34m,\u001b[0m \u001b[0mparser\u001b[0m\u001b[0;34m)\u001b[0m\u001b[0;34m\u001b[0m\u001b[0m\n\u001b[0m\u001b[1;32m    160\u001b[0m \u001b[0;34m\u001b[0m\u001b[0m\n\u001b[1;32m    161\u001b[0m         \u001b[0midents\u001b[0m \u001b[0;34m=\u001b[0m \u001b[0;34m{\u001b[0m\u001b[0;34m}\u001b[0m\u001b[0;34m\u001b[0m\u001b[0m\n",
      "\u001b[0;32msrc\\lxml\\etree.pyx\u001b[0m in \u001b[0;36mlxml.etree.parse\u001b[0;34m()\u001b[0m\n",
      "\u001b[0;32msrc\\lxml\\parser.pxi\u001b[0m in \u001b[0;36mlxml.etree._parseDocument\u001b[0;34m()\u001b[0m\n",
      "\u001b[0;32msrc\\lxml\\parser.pxi\u001b[0m in \u001b[0;36mlxml.etree._parseMemoryDocument\u001b[0;34m()\u001b[0m\n",
      "\u001b[0;31mValueError\u001b[0m: Unicode strings with encoding declaration are not supported. Please use bytes input or XML fragments without declaration."
     ]
    }
   ],
   "source": [
    "for ident, url in gswa.get_borehole_idents_and_urls().items():\n",
    "    print (ident, url)"
   ]
  },
  {
   "cell_type": "markdown",
   "metadata": {},
   "source": [
    "And we can get all the datasets as a Borehole instance"
   ]
  },
  {
   "cell_type": "code",
   "execution_count": null,
   "metadata": {},
   "outputs": [],
   "source": [
    "bh = gswa.get_borehole('PDP2C')"
   ]
  },
  {
   "cell_type": "markdown",
   "metadata": {},
   "source": [
    "## Borehole data\n",
    "\n",
    "Borehole data are represented using `pysiss.borehole.Borehole` classses. These are custom Python objects, since most GIS software doesn't provide an easy way of dealing with borehole data. Each Borehole has an origin_position, and a set of datasets keyed by depth down the borehole. These datasets can be either `pysiss.borehole.PointDatasets` (which are observations taken at individual depths down the borehole) or `pysiss.borehole.IntervalDatasets` (which are observations which are in some way averaged over some borehole interval). We don't provide a way of having a single feature defined for a borehole - you can represent these with Point- or IntervalDatasets with a single member."
   ]
  },
  {
   "cell_type": "code",
   "execution_count": null,
   "metadata": {},
   "outputs": [],
   "source": [
    "bh.point_datasets"
   ]
  },
  {
   "cell_type": "code",
   "execution_count": null,
   "metadata": {},
   "outputs": [],
   "source": [
    "data = bh.point_datasets['PDP2C']\n",
    "data.properties"
   ]
  },
  {
   "cell_type": "code",
   "execution_count": null,
   "metadata": {},
   "outputs": [],
   "source": [
    "data = data.to_dataframe()"
   ]
  },
  {
   "cell_type": "code",
   "execution_count": null,
   "metadata": {},
   "outputs": [],
   "source": [
    "data.head()"
   ]
  },
  {
   "cell_type": "code",
   "execution_count": null,
   "metadata": {},
   "outputs": [],
   "source": [
    "counts = data.groupby(['Grp1sTSAS']).agg(len).ix[:,0]\n",
    "pie(asarray(counts), labels=counts.index);"
   ]
  },
  {
   "cell_type": "code",
   "execution_count": null,
   "metadata": {},
   "outputs": [],
   "source": [
    "bh.__dict__"
   ]
  },
  {
   "cell_type": "markdown",
   "metadata": {},
   "source": [
    "Ok, so lets do something useful with the borehole data. We'll go and recreate a basic visualisation portal in a few lines of Python code. Here we're using Folium, a Python wrapper around leaflet.js maps, with tiles from MapBox."
   ]
  },
  {
   "cell_type": "code",
   "execution_count": null,
   "metadata": {},
   "outputs": [],
   "source": [
    "# Loop through all boreholes in the NVCL, get metadata but not analytes\n",
    "bh_idents = gswa.get_borehole_idents()\n",
    "collection = [ept.get_borehole(ident, get_analytes=False, raise_error=False) \n",
    "              for ident in bh_idents\n",
    "              for ept in endpoints.values()]"
   ]
  },
  {
   "cell_type": "code",
   "execution_count": null,
   "metadata": {},
   "outputs": [],
   "source": [
    "# Generate the map\n",
    "borehole_map = folium.Map(location=[-31.952199935913086, 115.86139678955078],\n",
    "                          zoom_start=14, \n",
    "                          tiles='Mapbox',\n",
    "                          API_key='jessrobertson.i9c8em78')\n",
    "\n",
    "# Make a marker on the map for each borehole in the collection\n",
    "for bh in collection:\n",
    "    if bh:\n",
    "        borehole_map.simple_marker((bh.origin_position.latitude, \n",
    "                                    bh.origin_position.longitude))\n",
    "    \n",
    "# Show the map in the notebook\n",
    "embed_map(borehole_map)"
   ]
  },
  {
   "cell_type": "code",
   "execution_count": null,
   "metadata": {},
   "outputs": [],
   "source": []
  }
 ],
 "metadata": {
  "kernelspec": {
   "display_name": "Python 3",
   "language": "python",
   "name": "python3"
  },
  "language_info": {
   "codemirror_mode": {
    "name": "ipython",
    "version": 3
   },
   "file_extension": ".py",
   "mimetype": "text/x-python",
   "name": "python",
   "nbconvert_exporter": "python",
   "pygments_lexer": "ipython3",
   "version": "3.6.6"
  }
 },
 "nbformat": 4,
 "nbformat_minor": 1
}
