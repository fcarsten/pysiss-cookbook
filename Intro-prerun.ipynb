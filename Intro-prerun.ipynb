{
 "metadata": {
  "name": "",
  "signature": "sha256:20ce53b0e71adb90cee828fd45a36332fe9f65b3cbb5e0e7588788b572f60a3c"
 },
 "nbformat": 3,
 "nbformat_minor": 0,
 "worksheets": [
  {
   "cells": [
    {
     "cell_type": "markdown",
     "metadata": {},
     "outputs": [],
     "source": [
      "# Accessing webservices\n",
      "\n",
      "How do you get the URLs? You can query a Catalogue Service Web (CSW) endpoint, but the easiest way is just to pull it from the AuScope portal."
     ]
    },
    {
     "cell_type": "code",
     "collapsed": false,
     "input": [
      "from talktools import website, embed_map\n",
      "\n",
      "website('http://portal.auscope.org', 'AuScope Portal', width=1000, height=500)"
     ],
     "language": "python",
     "metadata": {},
     "outputs": []
    },
    {
     "cell_type": "markdown",
     "metadata": {},
     "outputs": [],
     "source": [
      "Once you've got your endpoint, you can hit it up for some data."
     ]
    },
    {
     "cell_type": "code",
     "collapsed": false,
     "input": [
      "url = 'http://geossdi.dmp.wa.gov.au:80/services/wfs'"
     ],
     "language": "python",
     "metadata": {},
     "outputs": []
    },
    {
     "cell_type": "markdown",
     "metadata": {},
     "outputs": [],
     "source": [
      "Here we use the requests library to hit the endpoint, but you can use anything you like really..."
     ]
    },
    {
     "cell_type": "code",
     "collapsed": false,
     "input": [
      "import requests\n",
      "\n",
      "# Get data from WA, get me the first 5 gsml:Borehole items\n",
      "params = dict(\n",
      "    service='WFS',\n",
      "    version='1.1.0',\n",
      "    request='GetFeature',\n",
      "    typename='gsml:Borehole',\n",
      "    bbox='-36.669908, 110.630435, -12.685026, 129.614808',\n",
      "    max_features=5\n",
      ")\n",
      "\n",
      "# Construct the request & give me the response\n",
      "response = requests.get(url, params=params)\n",
      "print response.url"
     ],
     "language": "python",
     "metadata": {},
     "outputs": []
    },
    {
     "cell_type": "markdown",
     "metadata": {},
     "outputs": [],
     "source": [
      "What's the response?"
     ]
    },
    {
     "cell_type": "code",
     "collapsed": false,
     "input": [
      "print response.content"
     ],
     "language": "python",
     "metadata": {},
     "outputs": []
    },
    {
     "cell_type": "markdown",
     "metadata": {},
     "outputs": [],
     "source": [
      "Most OGC webservices support RESTful queries through the URL like this, but for more complex queries with multiple filters (i.e. not just the bounding box) you might want to use the SOAPy method of posting an XML query to the server. \n",
      "\n",
      "    <?xml version=\"1.0\" encoding=\"utf-8\"?>\n",
      "    <wfs:GetFeature\n",
      "     xmlns:wfs=\"http://www.opengis.net/wfs\"\n",
      "     xmlns:ogc=\"http://www.opengis.net/ogc\"\n",
      "     xmlns:gml=\"http://www.opengis.net/gml\"\n",
      "     xmlns:sa=\"http://www.opengis.net/sampling/1.0\"\n",
      "     maxFeatures=\"{max_features}\" service=\"WFS\"\n",
      "     version=\"1.1.0\" xmlns:gsml=\"urn:cgi:xmlns:CGI:GeoSciML:2.0\">\n",
      "       <wfs:Query typeName=\"gsml:Borehole\">\n",
      "        <ogc:Filter xmlns:ogc=\"http://www.opengis.net/ogc\">\n",
      "           <ogc:BBOX>\n",
      "             <ogc:PropertyName>gsml:shape</ogc:PropertyName>\n",
      "             <gml:Envelope srsName=\"EPSG:4326\">\n",
      "               <gml:lowerCorner>\n",
      "                 {lower_corner[0]}, {lower_corner[1]}\n",
      "               </gml:lowerCorner>\n",
      "               <gml:upperCorner>\n",
      "                 {upper_corner[0]}, {upper_corner[1]}\n",
      "               </gml:upperCorner>\n",
      "             </gml:Envelope>\n",
      "           </ogc:BBOX>\n",
      "         </ogc:Filter>\n",
      "       </wfs:Query>\n",
      "    </wfs:GetFeature>"
     ]
    },
    {
     "cell_type": "markdown",
     "metadata": {},
     "outputs": [],
     "source": [
      "## Using OWSLib\n",
      "\n",
      "OWSLib is a library which makes forming OGC webservice queries much easier"
     ]
    },
    {
     "cell_type": "code",
     "collapsed": false,
     "input": [
      "# Products to pull\n",
      "aster_products = [\n",
      "    'AlOH_group_composition',\n",
      "    'Ferric_oxide_composition',\n",
      "    'MgOH_group_composition'\n",
      "]\n",
      "bounds = (119.52, -21.6, 120.90, -20.5)\n",
      "wcsurl = 'http://aster.nci.org.au/thredds/wcs/aster/vnir/Aus_Mainland/Aus_Mainland_{0}_reprojected.nc4'"
     ],
     "language": "python",
     "metadata": {},
     "outputs": []
    },
    {
     "cell_type": "code",
     "collapsed": false,
     "input": [
      "from owslib import wcs\n",
      "import socket\n",
      "\n",
      "# Only uncomment this if you're not giving a talk and can afford to wait for the ~18 Mb download\n",
      "# Otherwise, pull the geoTIFFs out of the geotiffs folder.\n",
      "for product in aster_products:\n",
      "    try:\n",
      "        coverage_service = wcs.WebCoverageService(wcsurl.format(product))\n",
      "        response = coverage_service.getCoverage(product,\n",
      "                                                bbox=bounds,       # We only want data within the bounds we're considering\n",
      "                                                format='GeoTIFF',  # We want data in GeoTIFF format\n",
      "                                                timeout=100)       # We need to wait a bit longer for large files...\n",
      "        with open(product + '.gtif', 'wb') as fhandle:\n",
      "            fhandle.write(response.read())\n",
      "    except socket.timeout:\n",
      "        continue"
     ],
     "language": "python",
     "metadata": {},
     "outputs": []
    },
    {
     "cell_type": "markdown",
     "metadata": {},
     "outputs": [],
     "source": [
      "OWSLib knows how to talk to WCS, WFS, WMS etc etc etc"
     ]
    }
   ],
   "metadata": {}
  }
 ]
}