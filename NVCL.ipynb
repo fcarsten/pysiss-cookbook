{
 "metadata": {
  "name": "",
  "signature": "sha256:78b49fdbeffe3c82a64df65a09ae5f1460b8691f160baca4fcaac5a2479cdcba"
 },
 "nbformat": 3,
 "nbformat_minor": 0,
 "worksheets": [
  {
   "cells": [
    {
     "cell_type": "markdown",
     "metadata": {},
     "outputs": [],
     "source": [
      "# Using the NVCL data\n",
      "\n",
      "We're going to query and visualise the data available to use in the NVCL repositories of the various state geological surveys. "
     ]
    },
    {
     "cell_type": "code",
     "collapsed": false,
     "input": [
      "%pylab inline\n",
      "\n",
      "import pysiss\n",
      "from pysiss.webservices import nvcl\n",
      "import folium\n",
      "from talktools import website, embed_map"
     ],
     "language": "python",
     "metadata": {},
     "outputs": []
    },
    {
     "cell_type": "markdown",
     "metadata": {},
     "outputs": [],
     "source": [
      "If you don't know what endpoints are available, you can instantiate an NVCL endpoint registry, and see what's available:"
     ]
    },
    {
     "cell_type": "code",
     "collapsed": false,
     "input": [
      "registry = nvcl.NVCLEndpointRegistry()\n",
      "# registry.keys()\n",
      "registry['GSWA']"
     ],
     "language": "python",
     "metadata": {},
     "outputs": []
    },
    {
     "cell_type": "markdown",
     "metadata": {},
     "outputs": [],
     "source": [
      "Often what we want to do is get all the data in the first instance, so we'll make importers for each default endpoint in the registry. We do this with the NVCLImporter class, which knows how to query an NVCL endpoint, parse the GeoSciML data that is returned back the server, and return an Borehole object to you to play with. "
     ]
    },
    {
     "cell_type": "code",
     "collapsed": false,
     "input": [
      "endpoints = {}\n",
      "for ept in registry.keys():\n",
      "    endpoints[ept] = nvcl.NVCLImporter(ept)\n",
      "    \n",
      "# Example\n",
      "gswa = endpoints['GSWA']\n",
      "gswa"
     ],
     "language": "python",
     "metadata": {},
     "outputs": []
    },
    {
     "cell_type": "markdown",
     "metadata": {},
     "outputs": [],
     "source": [
      "So we can query the importer to find out what boreholes are available at this endpoint"
     ]
    },
    {
     "cell_type": "code",
     "collapsed": false,
     "input": [
      "for ident, url in gswa.get_borehole_idents_and_urls().items():\n",
      "    print ident, url"
     ],
     "language": "python",
     "metadata": {},
     "outputs": []
    },
    {
     "cell_type": "markdown",
     "metadata": {},
     "outputs": [],
     "source": [
      "And we can get all the datasets as a Borehole instance"
     ]
    },
    {
     "cell_type": "code",
     "collapsed": false,
     "input": [
      "bh = gswa.get_borehole('PDP2C')"
     ],
     "language": "python",
     "metadata": {},
     "outputs": []
    },
    {
     "cell_type": "markdown",
     "metadata": {},
     "outputs": [],
     "source": [
      "## Borehole data\n",
      "\n",
      "Borehole data are represented using `pysiss.borehole.Borehole` classses. These are custom Python objects, since most GIS software doesn't provide an easy way of dealing with borehole data. Each Borehole has an origin_position, and a set of datasets keyed by depth down the borehole. These datasets can be either `pysiss.borehole.PointDatasets` (which are observations taken at individual depths down the borehole) or `pysiss.borehole.IntervalDatasets` (which are observations which are in some way averaged over some borehole interval). We don't provide a way of having a single feature defined for a borehole - you can represent these with Point- or IntervalDatasets with a single member."
     ]
    },
    {
     "cell_type": "code",
     "collapsed": false,
     "input": [
      "bh.point_datasets"
     ],
     "language": "python",
     "metadata": {},
     "outputs": []
    },
    {
     "cell_type": "code",
     "collapsed": false,
     "input": [
      "data = bh.point_datasets['PDP2C']\n",
      "data.properties"
     ],
     "language": "python",
     "metadata": {},
     "outputs": []
    },
    {
     "cell_type": "code",
     "collapsed": false,
     "input": [
      "data = data.to_dataframe()"
     ],
     "language": "python",
     "metadata": {},
     "outputs": []
    },
    {
     "cell_type": "code",
     "collapsed": false,
     "input": [
      "data.head()"
     ],
     "language": "python",
     "metadata": {},
     "outputs": []
    },
    {
     "cell_type": "code",
     "collapsed": false,
     "input": [
      "counts = data.groupby(['Grp1sTSAS']).agg(len).ix[:,0]\n",
      "pie(asarray(counts), labels=counts.index);"
     ],
     "language": "python",
     "metadata": {},
     "outputs": []
    },
    {
     "cell_type": "code",
     "collapsed": false,
     "input": [
      "bh.__dict__"
     ],
     "language": "python",
     "metadata": {},
     "outputs": []
    },
    {
     "cell_type": "markdown",
     "metadata": {},
     "outputs": [],
     "source": [
      "Ok, so lets do something useful with the borehole data. We'll go and recreate a basic visualisation portal in a few lines of Python code. Here we're using Folium, a Python wrapper around leaflet.js maps, with tiles from MapBox."
     ]
    },
    {
     "cell_type": "code",
     "collapsed": false,
     "input": [
      "# Loop through all boreholes in the NVCL, get metadata but not analytes\n",
      "bh_idents = gswa.get_borehole_idents()\n",
      "collection = [ept.get_borehole(ident, get_analytes=False, raise_error=False) \n",
      "              for ident in bh_idents\n",
      "              for ept in endpoints.values()]"
     ],
     "language": "python",
     "metadata": {},
     "outputs": []
    },
    {
     "cell_type": "code",
     "collapsed": false,
     "input": [
      "# Generate the map\n",
      "borehole_map = folium.Map(location=[-31.952199935913086, 115.86139678955078],\n",
      "                          zoom_start=14, \n",
      "                          tiles='Mapbox',\n",
      "                          API_key='jessrobertson.i9c8em78')\n",
      "\n",
      "# Make a marker on the map for each borehole in the collection\n",
      "for bh in collection:\n",
      "    if bh:\n",
      "        borehole_map.simple_marker((bh.origin_position.latitude, \n",
      "                                    bh.origin_position.longitude))\n",
      "    \n",
      "# Show the map in the notebook\n",
      "embed_map(borehole_map)"
     ],
     "language": "python",
     "metadata": {},
     "outputs": []
    },
    {
     "cell_type": "code",
     "collapsed": false,
     "input": [],
     "language": "python",
     "metadata": {},
     "outputs": []
    }
   ],
   "metadata": {}
  }
 ]
}